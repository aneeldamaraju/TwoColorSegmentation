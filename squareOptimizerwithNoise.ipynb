{
 "cells": [
  {
   "cell_type": "code",
   "execution_count": 2,
   "metadata": {
    "pycharm": {
     "is_executing": true
    }
   },
   "outputs": [],
   "source": [
    "import pyscipopt\n",
    "import numpy as np\n",
    "import matplotlib.pyplot as plt"
   ]
  },
  {
   "cell_type": "markdown",
   "metadata": {},
   "source": [
    "## First, create a square"
   ]
  },
  {
   "cell_type": "code",
   "execution_count": 18,
   "metadata": {},
   "outputs": [
    {
     "data": {
      "image/png": "[encoded data removed]",
      "text/plain": [
       "<Figure size 432x288 with 1 Axes>"
      ]
     },
     "metadata": {
      "needs_background": "light"
     },
     "output_type": "display_data"
    }
   ],
   "source": [
    "#Make a canvas\n",
    "H = W = 12\n",
    "clean_img = np.zeros((W, H), dtype=np.float32)\n",
    "#Fill in a square!\n",
    "clean_img[3:-3, 3:-3] = 1.0\n",
    "\n",
    "img = clean_img + np.random.randn(*clean_img.shape)/10\n",
    "mn, mx = img.min(), img.max()\n",
    "\n",
    "# Adjust contrast (equally to both images)\n",
    "img = (img - mn) / (mx - mn)\n",
    "\n",
    "plt.imshow(img,cmap='gray')\n",
    "plt.axis('off')\n",
    "plt.title('Simple image to segment');"
   ]
  },
  {
   "cell_type": "code",
   "execution_count": null,
   "metadata": {},
   "outputs": [],
   "source": []
  },
  {
   "cell_type": "code",
   "execution_count": 10,
   "metadata": {},
   "outputs": [],
   "source": [
    "m = pyscipopt.Model()"
   ]
  },
  {
   "cell_type": "code",
   "execution_count": 11,
   "metadata": {},
   "outputs": [],
   "source": [
    "#Create the list of variables\n",
    "\n",
    "\n",
    "#Create px_i\n",
    "px = {}\n",
    "for i in range(W):\n",
    "    px[i] = m.addVar(f'Px_{i}',vtype = 'B')\n",
    "#Create py_i\n",
    "py = {}\n",
    "for i in range(H):\n",
    "    py[i] = m.addVar(f'Py_{i}',vtype = 'B')\n",
    "\n",
    "#Create Hx_i    \n",
    "hx = {}\n",
    "for i in range(W):\n",
    "    hx[i] = m.addVar(f'Hx_{i}',vtype = 'B')\n",
    "#Create Hy_i\n",
    "hy = {}\n",
    "for i in range(H):\n",
    "    hy[i] = m.addVar(f'Hy_{i}',vtype = 'B')\n",
    "    \n",
    "#Create H_ij\n",
    "h = {}\n",
    "for i in range(W):\n",
    "    for j in range(H):\n",
    "        h[i,j] = m.addVar(f'H_{i},{j}',vtype = 'B')"
   ]
  },
  {
   "cell_type": "code",
   "execution_count": 12,
   "metadata": {
    "scrolled": true
   },
   "outputs": [],
   "source": [
    "##This seemed faster when they were not booleans???\n",
    "\n",
    "#Add linear constraints\n",
    "# only 2 Px\n",
    "m.addCons(pyscipopt.quicksum(px[i] for i in range(W)) == 2)\n",
    "# only 2 Py\n",
    "m.addCons(pyscipopt.quicksum(py[i] for i in range(H)) == 2)\n",
    "\n",
    "#Add nonlinear constraints\n",
    "#(-Hx_i + 1/2) * prod_j^W(i - Px_j *j) >0\n",
    "for i in range(W):\n",
    "    m.addCons((-hx[i] + .5) * pyscipopt.quickprod(i - px[j]*j for j in range(W)) >= 0)\n",
    "#(-Hy_i + 1/2) * prod_j^W(i - Py_j *j) >0\n",
    "for i in range(H):\n",
    "    m.addCons((-hx[i] + .5) * pyscipopt.quickprod(i - py[j]*j for j in range(W)) >= 0)\n",
    "    \n",
    "# Set Hij matrix\n",
    "for i in range(W):\n",
    "    for j in range(H):\n",
    "        m.addCons(h[i,j] == hx[i]*hy[j])"
   ]
  },
  {
   "cell_type": "code",
   "execution_count": 13,
   "metadata": {},
   "outputs": [],
   "source": [
    "# Define objective\n",
    "color_1 = 1\n",
    "color_2 = 0\n",
    "c1_f = (color_1-img)**2\n",
    "c2_f = (color_2 - img)**2\n",
    "\n",
    "obj = pyscipopt.quicksum(c1_f[i,j]*h[i,j] + c2_f[i,j]*(1-h[i,j]) for i in range(W) for j in range(H))\n",
    "m.setObjective(obj,sense='minimize')"
   ]
  },
  {
   "cell_type": "code",
   "execution_count": 14,
   "metadata": {},
   "outputs": [
    {
     "name": "stdout",
     "output_type": "stream",
     "text": [
      "presolving:\n",
      "(round 1, fast)       0 del vars, 2 del conss, 0 add conss, 0 chg bounds, 0 chg sides, 0 chg coeffs, 0 upgd conss, 0 impls, 0 clqs\n",
      "(round 2, exhaustive) 0 del vars, 2 del conss, 49250 add conss, 0 chg bounds, 0 chg sides, 0 chg coeffs, 166 upgd conss, 0 impls, 0 clqs\n",
      "(round 3, fast)       144 del vars, 146 del conss, 49250 add conss, 0 chg bounds, 0 chg sides, 0 chg coeffs, 166 upgd conss, 0 impls, 720 clqs\n",
      "   (4.1s) symmetry computation started: requiring (bin +, int -, cont +), (fixed: bin -, int +, cont -)\n",
      "   (4.7s) no symmetry present\n",
      "   (4.7s) symmetry computation started: requiring (bin +, int +, cont +), (fixed: bin -, int -, cont -)\n",
      "   (5.3s) no symmetry present\n",
      "presolving (4 rounds: 4 fast, 2 medium, 2 exhaustive):\n",
      " 169 deleted vars, 146 deleted constraints, 49250 added constraints, 0 tightened bounds, 0 added holes, 0 changed sides, 0 changed coefficients\n",
      " 0 implications, 720 cliques\n",
      "presolved problem has 49273 variables (192 bin, 0 int, 49081 impl, 0 cont) and 49274 constraints\n",
      "     10 constraints of type <knapsack>\n",
      "  49250 constraints of type <and>\n",
      "     14 constraints of type <linear>\n",
      "Presolving Time: 5.24\n",
      "\n",
      " time | node  | left  |LP iter|LP it/n|mem/heur|mdpt |vars |cons |rows |cuts |sepa|confs|strbr|  dualbound   | primalbound  |  gap   | compl. \n",
      "p 6.4s|     1 |     0 |     0 |     - |shiftand|   0 |  49k|  49k|  98k|   0 |  0 |  13 |   0 | 4.542500e+00 | 2.877204e+01 | 533.40%| unknown\n",
      "  6.6s|     1 |     0 |    66 |     - |   738M |   0 |  49k|  49k|  98k|   0 |  0 |  13 |   0 | 4.542500e+00 | 2.877204e+01 | 533.40%| unknown\n",
      "  9.1s|     1 |     0 |   128 |     - |   744M |   0 |  49k|  49k|  98k|   8 |  1 |  47 |   0 | 4.542500e+00 | 2.877204e+01 | 533.40%| unknown\n",
      "(node 1) unresolved numerical troubles in LP 4 -- using pseudo solution instead (loop 1)\n",
      " 34.2s|     1 |     2 |   399 |     - |   761M |   0 |  49k|  49k|  98k|  20 |  2 |  47 |   0 | 4.542500e+00 | 2.877204e+01 | 533.40%| unknown\n",
      "*50.1s|    15 |     0 |  9922 | 680.2 |    LP  |  13 |  49k|  49k|  98k| 123 |  1 |  49 |   0 | 4.542500e+00 | 4.542500e+00 |   0.00%| 100.00%\n",
      "\n",
      "SCIP Status        : problem is solved [optimal solution found]\n",
      "Solving Time (sec) : 50.14\n",
      "Solving Nodes      : 15\n",
      "Primal Bound       : +4.54249989544847e+00 (2 solutions)\n",
      "Dual Bound         : +4.54249989544847e+00\n",
      "Gap                : 0.00 %\n"
     ]
    }
   ],
   "source": [
    "m.optimize()"
   ]
  },
  {
   "cell_type": "code",
   "execution_count": 15,
   "metadata": {},
   "outputs": [
    {
     "data": {
      "text/plain": [
       "'optimal'"
      ]
     },
     "execution_count": 15,
     "metadata": {},
     "output_type": "execute_result"
    }
   ],
   "source": [
    "m.getStatus()"
   ]
  },
  {
   "cell_type": "code",
   "execution_count": 16,
   "metadata": {},
   "outputs": [
    {
     "name": "stdout",
     "output_type": "stream",
     "text": [
      "x coordinates \n",
      " -------------------------\n",
      "2\n",
      "9\n",
      "y coordinates \n",
      " -------------------------\n",
      "2\n",
      "9\n"
     ]
    }
   ],
   "source": [
    "print('x coordinates \\n -------------------------')\n",
    "for i in range(W):\n",
    "    if m.getVal(px[i]) == 1:\n",
    "        print(i)\n",
    "        \n",
    "print('y coordinates \\n -------------------------')\n",
    "for i in range(H):\n",
    "    if m.getVal(py[i]) == 1:\n",
    "        print(i)\n",
    "        \n",
    "H_mat = np.zeros([W,H])\n",
    "for i in range(W):\n",
    "    for j in range(H):\n",
    "        if m.getVal(h[i,j]) == 1:\n",
    "            H_mat[i,j] = 1"
   ]
  },
  {
   "cell_type": "code",
   "execution_count": 25,
   "metadata": {},
   "outputs": [
    {
     "data": {
      "image/png": "[encoded data removed]",
      "text/plain": [
       "<Figure size 864x864 with 2 Axes>"
      ]
     },
     "metadata": {
      "needs_background": "light"
     },
     "output_type": "display_data"
    }
   ],
   "source": [
    "plt.figure(figsize=[12,12])\n",
    "plt.subplot(121)\n",
    "plt.imshow(img,cmap='gray')\n",
    "plt.title('Original (Noisy) Image')\n",
    "plt.axis('off')\n",
    "\n",
    "plt.subplot(122)\n",
    "plt.imshow(H_mat,cmap='gray')\n",
    "plt.title('Segmented Image')\n",
    "plt.axis('off')\n",
    "\n",
    "plt.savefig('NoisySquareOptim.png')"
   ]
  },
  {
   "cell_type": "code",
   "execution_count": 26,
   "metadata": {},
   "outputs": [
    {
     "data": {
      "text/plain": [
       "('MT19937',\n",
       " array([1601512086,  317939758, 2033672481, 4203621070, 3660221724,\n",
       "        1883402280, 3407779416, 3817390263, 1014139561, 1719791262,\n",
       "        3632328653, 2032072594, 4085505603, 2766811646,  738259560,\n",
       "        3064831008,  222831199, 3655283991, 1324397846,  959171870,\n",
       "         300516757, 1241902648,  116700567, 3374217270,  712938442,\n",
       "        3933607264,  175543296,   41853819, 1339688288, 2080754266,\n",
       "        2570574833, 1927289837, 2466538498, 2658887588, 3752773050,\n",
       "         746491787, 3938301401, 3385527967, 4165099409, 2380270644,\n",
       "        3324220321,  565505952,  809789852,  725481434, 1237401009,\n",
       "        2365206030, 2416565027, 4148372366, 3104132213, 1115283206,\n",
       "        3428478155, 3873805511, 3764161337, 3226613747, 3358611187,\n",
       "        3879800041, 2227541213, 2846567606,  364536242, 3819836405,\n",
       "        2777649234, 4004860746,  300281987,  638612163, 2338575810,\n",
       "        1867935189, 3852426974,   24438077, 2172778944, 4089573961,\n",
       "        2436704507, 3240148138,  666044522, 2383309604,  806408929,\n",
       "        1864853749, 1219479494, 2657071273, 3776865384,  991394835,\n",
       "        1432287682, 1969371837, 3276036183, 1789480898, 1681132820,\n",
       "        2869064586, 1406520330, 2021575476,  363969637, 2112976517,\n",
       "         426763472, 2331389199, 4174938204, 3142849922, 2269920989,\n",
       "        1335537367,  519814966, 3797293568, 1944970544, 3894560636,\n",
       "        1838871433,  286568990, 3491269182, 3531458167, 3594095993,\n",
       "        3288201538, 3612958698, 2583455506,  781127229, 1261487642,\n",
       "        2757362727,  831910863, 3858224347, 1682643158, 3417550432,\n",
       "        2532180639, 1813756041, 2494733092, 3568844108,  194708697,\n",
       "         273582894, 1450744713, 1025989400, 2702532138, 2155164004,\n",
       "         394143203,  262160013, 2747921550, 3888534744,  392258956,\n",
       "        2723818533, 4152827489,  478201544, 2475823140, 1993841969,\n",
       "         155949129,  967108453, 1947396479, 2886004309, 3388052889,\n",
       "         739924650, 2477181036, 3425846737,  205288217, 3333074665,\n",
       "         639563174, 1885822504, 1237827368, 4035385561, 3371790863,\n",
       "         981446443, 1214921885, 1476267589, 3836638045,  405660496,\n",
       "        1136566102,  966788001, 3371042061, 2234782034, 4077963253,\n",
       "        1142161839, 1539052570, 2737977124, 3978942899,  462956252,\n",
       "        1202963515, 3776379052, 2937235783, 2981436964, 2098025856,\n",
       "        3006988415, 3873862030, 1949513425, 1393055945, 1898092607,\n",
       "        3239984050, 2954732080, 3957643008, 3667145614, 3233359796,\n",
       "         974363613, 4128041924, 1440133193, 2876098893, 2182735367,\n",
       "        3981872140,  519488000,    4978996, 2310730558, 2619418462,\n",
       "        1377628262, 3512304094, 2124780434, 2241800135, 2474509245,\n",
       "        2217785311, 3640864768,  983109105, 1901820477, 1944934541,\n",
       "          54222127, 1643416037,  482788032, 3165329738,  648854837,\n",
       "        2107844235, 3188191686,  763753749, 2274964303, 1360293657,\n",
       "        3172836519, 1531467867, 3718081409, 2405403477, 1564658241,\n",
       "         400898471, 2007724910, 1292775937,  842425888,  780155796,\n",
       "         215066834,  897181018, 1976409694, 2750482678, 2041528628,\n",
       "         190305564, 3470764482,  497729662, 2591000719, 2777805738,\n",
       "        3701428786, 4128982548,  518672913, 3938397027, 3834936897,\n",
       "        3376363738,  217410450, 2127334073, 1714918128, 1863009093,\n",
       "        2959006596, 4245426487, 1248176358,  710963157, 2365439865,\n",
       "        4164436083, 2595723654, 2644601549, 2229791956, 1455470924,\n",
       "         969055863,  603909032, 3220699983,  541935745, 2974170932,\n",
       "        1028879355, 2596204677, 2959046851, 1286643919, 2617051449,\n",
       "        1269919880, 2925482641, 3248460174, 3588654480, 3615947896,\n",
       "        3003075363,  337316167, 3335805665, 2956413666, 1507776610,\n",
       "        3702040525, 2611328325, 4069064450, 3918390312, 3470826847,\n",
       "        1877120268, 1697923081,   91340525, 3298202983, 2004833748,\n",
       "        1228182654,   74754970, 4062756106, 1456320208, 3482404443,\n",
       "        2221857082, 3230388079, 3453556307, 1653034550, 3592683980,\n",
       "        1292909763,  182817343, 1587888651,   47889999, 1055028194,\n",
       "        1103802334, 1797701282, 1604600943, 3545039802, 4203933627,\n",
       "        2364644191,  198773043, 2620266881,  115765464, 2327872841,\n",
       "        3497162456,  357206043,  333930620, 1423520877, 2301694586,\n",
       "        2714517772, 2964479879, 3633722541, 2682303298, 4023744437,\n",
       "        4219119659,  140426776, 3233203454, 1756869798, 2827214395,\n",
       "        2363891239, 2259139377, 3856782651,  272457847, 4200137868,\n",
       "        1692972637, 4072226459, 1679741071, 3230515589, 2869969433,\n",
       "         260538361, 1172609057,  118772246, 3912235289, 3500390162,\n",
       "        3073845936, 3615412428,   62360436, 1919668687, 3807203206,\n",
       "        1405596052,  518658269, 3845549605, 3064346314, 1722579813,\n",
       "        1265770981, 4005100432, 3403289994, 1269593375, 1120687629,\n",
       "        4207468054,  613900211, 3286400463,  823665817,  225040057,\n",
       "         464239739, 4073353891, 4235241746, 2946951497, 4242339329,\n",
       "        3810068554, 3533481463, 3150237639, 1794550949,  100122059,\n",
       "        1865903540,  859081855, 1877393759, 1163101967, 3734863650,\n",
       "         910156431, 3823302163, 2329604128, 2895952425, 2089403460,\n",
       "        2020092157,   74838002, 1875233339, 3935481487,  466432228,\n",
       "        3611383445,  164838757, 2222030255, 1454387539, 1739099166,\n",
       "        3048427815, 1281497125, 3674448822, 2828172126,  645135793,\n",
       "        3334233969,  844587855,  280075596, 1343190611, 3138829771,\n",
       "        3286581496, 4158079602,  173134791, 2132280653, 2799152811,\n",
       "         641780827, 3696221319, 4109861262, 4128886598,  670275205,\n",
       "        1397349801, 2676416578, 3386102230, 2889253475, 1718859992,\n",
       "        3215647132, 1574125245, 1354441172, 3998057100, 4085455892,\n",
       "        3380574514,  539462819, 2874647894, 1552748214, 3064114544,\n",
       "        3030133047,  162179747, 4130846970,  742739853,  406978993,\n",
       "        2613588515, 1579179350,  533029661, 3761532470,  377693470,\n",
       "        1987563648, 3187475066, 3854949616, 3748127226, 2439921916,\n",
       "        3833206592, 1470001464, 3474594317,  497486038,  534233771,\n",
       "         981946562,  218471212, 4225544362,  881778028, 1973196385,\n",
       "        1578078156, 1932181535, 2655916243, 3115553678, 2611103841,\n",
       "        2083665084, 3820710917, 2573243623, 3425783631, 3268439656,\n",
       "        3068943201, 2885467860,  417065330, 1289012651, 1585177743,\n",
       "        3654556175, 3373877114, 2139720924, 2939128506, 1099871138,\n",
       "        1426525677, 3332025096, 2464014581, 1648470133,  282339626,\n",
       "        3944762724, 3433947039,  593895023, 3117999441,  824205761,\n",
       "        2347884726, 1846057957, 2334742518,   86004279,  465704376,\n",
       "        3998663577, 2157671407, 1979037136, 1629970370, 2905785326,\n",
       "          97478323, 1410542046,  987970114, 2109602194, 1333580924,\n",
       "        3088078897, 3126707609, 2354485014, 4082116179, 1485060772,\n",
       "        2624704449, 4183039421, 3112736533, 2349599959, 3913914671,\n",
       "        1021983824, 3115968814, 2580764233, 2308356351, 1122538799,\n",
       "        2212446467, 1891122969, 1277461380, 2013234560, 2409792310,\n",
       "        1637159927, 2670675303,  862697462, 2611802609,  176969591,\n",
       "        2670864690, 2178720665,  379591906, 3470346977, 3242023566,\n",
       "        3145315121, 3723408869, 3362575885, 2289929662,   20818193,\n",
       "        1156824537, 2466620750, 2567475252, 4188959723, 3287856475,\n",
       "        3823122055, 1774551032, 2187074134,  695031526, 3566552911,\n",
       "        3935959947, 2418937607, 1261592050, 1616143586, 3001252006,\n",
       "        2526253035, 1307463544, 3696518548,  892145820, 2247140246,\n",
       "        3079527826, 1281283911, 2495123636, 2696490962,  302909831,\n",
       "        1607905849,  415237206,  266268751,  704283309, 2139364466,\n",
       "        3919439387, 1818946371, 2021297454,  316712201,    1078272,\n",
       "        1651745338, 3994811117, 3916545123, 3773517540,  322546346,\n",
       "        2659494392,  232051749, 2265880848, 3237159903,  512563424,\n",
       "        1418300611, 1250763002, 1639904534, 3638952548,  737452274,\n",
       "         178907693,  581425523,  696641845, 1136402526, 1938882361,\n",
       "        1754212968, 2079544775, 2250248434,  747764432, 3218979477,\n",
       "        1404102463, 2253175309,  225237325,    5507823,  389475229,\n",
       "        1547643973, 2407126080, 4252791854, 3961479057, 2488666915,\n",
       "         658570196, 2908519229, 3930706591, 1029016987, 3580162756,\n",
       "        1050517219, 2462651633, 2708812547, 3043025808,   35324522,\n",
       "        3903944568, 2446506563, 4096940602, 1446990489, 1167523251,\n",
       "        1754850520, 2165613709,  120970923,   45802983, 4092548447,\n",
       "        1689415805, 2197681586, 2894270599, 2591999720,   29447047,\n",
       "        1423137651,  831066779, 1746421729, 3631076153], dtype=uint32),\n",
       " 187,\n",
       " 0,\n",
       " 0.0)"
      ]
     },
     "execution_count": 26,
     "metadata": {},
     "output_type": "execute_result"
    }
   ],
   "source": [
    "np.random.get_state()"
   ]
  }
 ],
 "metadata": {
  "kernelspec": {
   "display_name": "PyCharm (splineSegementation)",
   "language": "python",
   "name": "pycharm-a1db7ab"
  },
  "language_info": {
   "codemirror_mode": {
    "name": "ipython",
    "version": 3
   },
   "file_extension": ".py",
   "mimetype": "text/x-python",
   "name": "python",
   "nbconvert_exporter": "python",
   "pygments_lexer": "ipython3",
   "version": "3.8.13"
  }
 },
 "nbformat": 4,
 "nbformat_minor": 1
}
